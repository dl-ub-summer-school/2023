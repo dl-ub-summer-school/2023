{
 "cells": [
  {
   "cell_type": "code",
   "execution_count": 12,
   "metadata": {},
   "outputs": [],
   "source": [
    "import numpy as np"
   ]
  },
  {
   "cell_type": "code",
   "execution_count": 13,
   "metadata": {},
   "outputs": [],
   "source": [
    "train_X = np.genfromtxt(\"train_X.csv\", delimiter=\",\", dtype=float, filling_values=0.0) # Training hiih data\n",
    "train_y = np.genfromtxt(\"train_y.csv\", delimiter=\",\", dtype=float, filling_values=0.0) # Training-iin zuv hariu\n",
    "test_X = np.genfromtxt(\"test_X.csv\", delimiter=\",\", dtype=float, filling_values=0.0) # Uusgesen model-oo ashiglan ene testiin datan deer predict hiij ur dung ilgeene uu."
   ]
  },
  {
   "cell_type": "code",
   "execution_count": 14,
   "metadata": {},
   "outputs": [
    {
     "data": {
      "text/plain": [
       "((72733, 22), (72733,), (31172, 22))"
      ]
     },
     "execution_count": 14,
     "metadata": {},
     "output_type": "execute_result"
    }
   ],
   "source": [
    "train_X.shape, train_y.shape, test_X.shape"
   ]
  },
  {
   "cell_type": "code",
   "execution_count": 20,
   "metadata": {},
   "outputs": [],
   "source": [
    "import torch\n",
    "from torch import nn\n",
    "import torch.nn.functional as F\n",
    "\n",
    "# TODO: modeliin architecture uuruu uurchilj uzeh\n",
    "\n",
    "class NeuralNetwork(nn.Module):\n",
    "  def __init__(self):\n",
    "    super().__init__()\n",
    "    self.l1 = nn.Linear(22, 5) # input features ni 22 heveeree bna\n",
    "    self.l2 = nn.Linear(5, 1)\n",
    "\n",
    "  def forward(self, x):\n",
    "    x1 = self.l1(x)\n",
    "    x2 = F.relu(x1)\n",
    "    x3 = self.l2(x2)\n",
    "    x4 = torch.sigmoid(x3)\n",
    "    return x4"
   ]
  },
  {
   "cell_type": "code",
   "execution_count": 31,
   "metadata": {},
   "outputs": [
    {
     "data": {
      "text/plain": [
       "NeuralNetwork(\n",
       "  (l1): Linear(in_features=22, out_features=5, bias=True)\n",
       "  (l2): Linear(in_features=5, out_features=1, bias=True)\n",
       ")"
      ]
     },
     "execution_count": 31,
     "metadata": {},
     "output_type": "execute_result"
    }
   ],
   "source": [
    "model = NeuralNetwork()\n",
    "model"
   ]
  },
  {
   "cell_type": "code",
   "execution_count": 32,
   "metadata": {},
   "outputs": [
    {
     "data": {
      "text/plain": [
       "Adam (\n",
       "Parameter Group 0\n",
       "    amsgrad: False\n",
       "    betas: (0.9, 0.999)\n",
       "    capturable: False\n",
       "    differentiable: False\n",
       "    eps: 1e-08\n",
       "    foreach: None\n",
       "    fused: False\n",
       "    lr: 0.01\n",
       "    maximize: False\n",
       "    weight_decay: 0\n",
       ")"
      ]
     },
     "execution_count": 32,
     "metadata": {},
     "output_type": "execute_result"
    }
   ],
   "source": [
    "optimizer = torch.optim.Adam(model.parameters(), lr = 0.01) # TODO: optimizer uuruu uurchilj uzeh\n",
    "optimizer"
   ]
  },
  {
   "cell_type": "code",
   "execution_count": 33,
   "metadata": {},
   "outputs": [],
   "source": [
    "X = torch.tensor(train_X, dtype=torch.float)\n",
    "y = torch.tensor(train_y, dtype=torch.float)"
   ]
  },
  {
   "cell_type": "code",
   "execution_count": 34,
   "metadata": {},
   "outputs": [
    {
     "name": "stdout",
     "output_type": "stream",
     "text": [
      "24.954635620117188\n",
      "21.364858627319336\n",
      "16.0677433013916\n",
      "9.435455322265625\n",
      "3.440927743911743\n",
      "1.5139456987380981\n",
      "3.4453625679016113\n",
      "2.673809766769409\n",
      "1.2813178300857544\n",
      "1.3520605564117432\n",
      "2.030040979385376\n",
      "1.5410772562026978\n",
      "0.6448860168457031\n",
      "1.2418919801712036\n",
      "1.4752508401870728\n",
      "1.1645084619522095\n",
      "0.6683271527290344\n",
      "1.1264244318008423\n",
      "1.2723934650421143\n",
      "0.7751994132995605\n",
      "0.8331206440925598\n",
      "1.1239080429077148\n",
      "1.0943883657455444\n",
      "0.8066896796226501\n",
      "0.7108246088027954\n",
      "0.9947447180747986\n",
      "0.8078539371490479\n",
      "0.680433452129364\n",
      "0.8537805080413818\n",
      "0.8589122891426086\n",
      "0.6893157958984375\n",
      "0.6833099722862244\n",
      "0.8049270510673523\n",
      "0.6426507234573364\n",
      "0.6804648637771606\n",
      "0.7548028230667114\n",
      "0.6740228533744812\n",
      "0.634347140789032\n",
      "0.7259647250175476\n",
      "0.6330841779708862\n",
      "0.6538517475128174\n",
      "0.6912972927093506\n",
      "0.6274477243423462\n",
      "0.637977659702301\n",
      "0.6608636379241943\n",
      "0.6066545248031616\n",
      "0.6429443359375\n",
      "0.6361677646636963\n",
      "0.6048666834831238\n",
      "0.638507604598999\n",
      "0.6126447319984436\n",
      "0.6124683022499084\n",
      "0.6270126104354858\n",
      "0.6021305918693542\n",
      "0.6140254735946655\n",
      "0.6103338599205017\n",
      "0.5988534688949585\n",
      "0.612106442451477\n",
      "0.5972253680229187\n",
      "0.6023938059806824\n",
      "0.6017940044403076\n",
      "0.5941687226295471\n",
      "0.6022343039512634\n",
      "0.5919371843338013\n",
      "0.5966973900794983\n",
      "0.593014121055603\n",
      "0.5903736352920532\n",
      "0.5933161377906799\n",
      "0.5865834951400757\n",
      "0.5907292366027832\n",
      "0.5858849883079529\n",
      "0.5866541862487793\n",
      "0.5860725045204163\n",
      "0.5830134749412537\n",
      "0.5849285125732422\n",
      "0.5809791684150696\n",
      "0.5824556946754456\n",
      "0.5799016356468201\n",
      "0.579622745513916\n",
      "0.5788567662239075\n",
      "0.5772348642349243\n",
      "0.5775477290153503\n",
      "0.5753330588340759\n",
      "0.5758414268493652\n",
      "0.5738304257392883\n",
      "0.573849081993103\n",
      "0.572468638420105\n",
      "0.5718390345573425\n",
      "0.5710381865501404\n",
      "0.5699856877326965\n",
      "0.5695536732673645\n",
      "0.5682775378227234\n",
      "0.5679893493652344\n",
      "0.5667058825492859\n",
      "0.5663533210754395\n",
      "0.565188467502594\n",
      "0.5647038817405701\n",
      "0.5636860728263855\n",
      "0.5630711317062378\n",
      "0.5622025728225708\n"
     ]
    }
   ],
   "source": [
    "epoch = 100\n",
    "for i in range(epoch):\n",
    "  y_pred = model.forward(X).flatten()\n",
    "  loss = F.binary_cross_entropy(y_pred, y.view(y_pred.shape))\n",
    "\n",
    "  optimizer.zero_grad()\n",
    "\n",
    "  loss.backward()\n",
    "\n",
    "  optimizer.step()\n",
    "\n",
    "  print(loss.item())"
   ]
  },
  {
   "cell_type": "code",
   "execution_count": null,
   "metadata": {},
   "outputs": [],
   "source": []
  },
  {
   "cell_type": "code",
   "execution_count": 35,
   "metadata": {},
   "outputs": [],
   "source": [
    "test_data = torch.tensor(test_X, dtype=torch.float)\n",
    "with torch.inference_mode():\n",
    "    logits = model(test_data)\n",
    "    predictions = torch.where(logits > 0.5, 1, 0)"
   ]
  },
  {
   "cell_type": "code",
   "execution_count": 41,
   "metadata": {},
   "outputs": [],
   "source": [
    "import torch\n",
    "import pandas as pd\n",
    "import numpy as np\n",
    "\n",
    "pred_np = predictions.numpy()\n",
    "pred_df = pd.DataFrame(pred_np)\n",
    "pred_df.to_csv('predictions.csv', index=False, header=False) # submit the prediction"
   ]
  },
  {
   "cell_type": "code",
   "execution_count": null,
   "metadata": {},
   "outputs": [],
   "source": []
  }
 ],
 "metadata": {
  "kernelspec": {
   "display_name": "Python 3",
   "language": "python",
   "name": "python3"
  },
  "language_info": {
   "codemirror_mode": {
    "name": "ipython",
    "version": 3
   },
   "file_extension": ".py",
   "mimetype": "text/x-python",
   "name": "python",
   "nbconvert_exporter": "python",
   "pygments_lexer": "ipython3",
   "version": "3.8.9"
  },
  "orig_nbformat": 4,
  "vscode": {
   "interpreter": {
    "hash": "908efceea458cb9ea844c13c15f6a877ad9f9b885ed796f398e38aad51f00e1d"
   }
  }
 },
 "nbformat": 4,
 "nbformat_minor": 2
}
